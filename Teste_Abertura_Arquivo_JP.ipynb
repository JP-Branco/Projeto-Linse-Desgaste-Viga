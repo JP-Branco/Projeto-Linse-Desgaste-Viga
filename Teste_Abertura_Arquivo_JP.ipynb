{
 "cells": [
  {
   "cell_type": "code",
   "execution_count": 1,
   "metadata": {},
   "outputs": [
    {
     "name": "stderr",
     "output_type": "stream",
     "text": [
      "fatal: destination path 'ActVibModules' already exists and is not an empty directory.\n"
     ]
    }
   ],
   "source": [
    "# Baixando ActVibModules\n",
    "!git clone https://github.com/eduardobatista/ActVibModules.git"
   ]
  },
  {
   "cell_type": "code",
   "execution_count": 2,
   "metadata": {},
   "outputs": [
    {
     "name": "stdout",
     "output_type": "stream",
     "text": [
      "Requirement already satisfied: plotly in c:\\users\\jpsfb\\miniconda3\\envs\\myenv\\lib\\site-packages (5.22.0)\n",
      "Requirement already satisfied: tenacity>=6.2.0 in c:\\users\\jpsfb\\miniconda3\\envs\\myenv\\lib\\site-packages (from plotly) (8.2.3)\n",
      "Requirement already satisfied: packaging in c:\\users\\jpsfb\\appdata\\roaming\\python\\python311\\site-packages (from plotly) (23.2)\n"
     ]
    }
   ],
   "source": [
    "!pip install plotly"
   ]
  },
  {
   "cell_type": "code",
   "execution_count": 3,
   "metadata": {},
   "outputs": [
    {
     "name": "stdout",
     "output_type": "stream",
     "text": [
      "Name: plotly\n",
      "Version: 5.22.0\n",
      "Summary: An open-source, interactive data visualization library for Python\n",
      "Home-page: https://plotly.com/python/\n",
      "Author: Chris P\n",
      "Author-email: chris@plot.ly\n",
      "License: MIT\n",
      "Location: C:\\Users\\jpsfb\\miniconda3\\envs\\myenv\\Lib\\site-packages\n",
      "Requires: packaging, tenacity\n",
      "Required-by: \n"
     ]
    }
   ],
   "source": [
    "!pip show plotly"
   ]
  },
  {
   "cell_type": "code",
   "execution_count": 4,
   "metadata": {},
   "outputs": [],
   "source": [
    "from ActVibModules.ActVibSystem import ActVibData\n",
    "from ActVibModules.Adaptive import FIRNLMS\n",
    "from ActVibModules.DSPFuncs import easyFourier\n",
    "\n",
    "import gdown\n",
    "import numpy as np\n",
    "import pandas as pd\n",
    "import plotly.express as px"
   ]
  },
  {
   "cell_type": "markdown",
   "metadata": {},
   "source": [
    "# Baixando Arquivos"
   ]
  },
  {
   "cell_type": "code",
   "execution_count": 2,
   "metadata": {},
   "outputs": [
    {
     "ename": "NameError",
     "evalue": "name 'aa' is not defined",
     "output_type": "error",
     "traceback": [
      "\u001b[1;31m---------------------------------------------------------------------------\u001b[0m",
      "\u001b[1;31mNameError\u001b[0m                                 Traceback (most recent call last)",
      "Cell \u001b[1;32mIn[2], line 1\u001b[0m\n\u001b[1;32m----> 1\u001b[0m \u001b[43maa\u001b[49m\n",
      "\u001b[1;31mNameError\u001b[0m: name 'aa' is not defined"
     ]
    }
   ],
   "source": [
    "aa"
   ]
  },
  {
   "cell_type": "code",
   "execution_count": 6,
   "metadata": {},
   "outputs": [
    {
     "name": "stderr",
     "output_type": "stream",
     "text": [
      "Retrieving folder contents\n"
     ]
    },
    {
     "name": "stdout",
     "output_type": "stream",
     "text": [
      "Processing file 1efGMAZYypEiaQU8Zks05mj8g-fJY5OyX R1_A1_0.1.feather\n",
      "Processing file 14L9uNfd19PzP-Vh4CeD7AexmbvQz1u_O R1_A1_0.5.feather\n",
      "Processing file 1fyOEvRJlMPWsAgyE1I2GJp6jEgBTaEPC R1_A1_0.25.feather\n",
      "Processing file 1A2eGN3Wd1UG5CDunUKAUToaoQ7nA7BGB R1_A1_1.0.feather\n",
      "Processing file 138ynRoO-wsv3iMlw3k5_W93wVbCwn66i R2_A1_0.1.feather\n",
      "Processing file 1cuQPOCD-ikDnkITEXuhFcapRz3WjM7ms R2_A1_0.5.feather\n",
      "Processing file 1ActxF2BNWxJeB7rdPKqaKpIvUwJWLEsO R2_A1_0.25.feather\n",
      "Processing file 1eMW9E8fMcvz8wmq49xSXKcJg36R-D56K R2_A1_1.0.feather\n",
      "Processing file 1whnYFkQ2pqz0KUKBFALTjRz4gggVLThh R3_A1_0.1.feather\n",
      "Processing file 177GBUzd_t-sOn0b5WIgunNQdp5wDa-Ot R3_A1_0.5.feather\n",
      "Processing file 1NXZ7RXa0rPfFM5Sshu_fMh_Zz2TQaDIs R3_A1_0.25.feather\n",
      "Processing file 13gYMUFQYfI-YLF7GOu9CtXPoyHhfHasR R3_A1_1.0.feather\n"
     ]
    },
    {
     "name": "stderr",
     "output_type": "stream",
     "text": [
      "Retrieving folder contents completed\n",
      "Building directory structure\n",
      "Building directory structure completed\n",
      "Downloading...\n",
      "From: https://drive.google.com/uc?id=1efGMAZYypEiaQU8Zks05mj8g-fJY5OyX\n",
      "To: c:\\Users\\jpsfb\\OneDrive\\Área de Trabalho\\LINSE\\Códigos\\06Maio2024-Atuador1-Exp1-VigaIntacta\\R1_A1_0.1.feather\n",
      "100%|██████████| 1.91M/1.91M [00:00<00:00, 6.31MB/s]\n",
      "Downloading...\n",
      "From: https://drive.google.com/uc?id=14L9uNfd19PzP-Vh4CeD7AexmbvQz1u_O\n",
      "To: c:\\Users\\jpsfb\\OneDrive\\Área de Trabalho\\LINSE\\Códigos\\06Maio2024-Atuador1-Exp1-VigaIntacta\\R1_A1_0.5.feather\n",
      "100%|██████████| 2.22M/2.22M [00:00<00:00, 5.89MB/s]\n",
      "Downloading...\n",
      "From: https://drive.google.com/uc?id=1fyOEvRJlMPWsAgyE1I2GJp6jEgBTaEPC\n",
      "To: c:\\Users\\jpsfb\\OneDrive\\Área de Trabalho\\LINSE\\Códigos\\06Maio2024-Atuador1-Exp1-VigaIntacta\\R1_A1_0.25.feather\n",
      "100%|██████████| 2.04M/2.04M [00:00<00:00, 6.30MB/s]\n",
      "Downloading...\n",
      "From: https://drive.google.com/uc?id=1A2eGN3Wd1UG5CDunUKAUToaoQ7nA7BGB\n",
      "To: c:\\Users\\jpsfb\\OneDrive\\Área de Trabalho\\LINSE\\Códigos\\06Maio2024-Atuador1-Exp1-VigaIntacta\\R1_A1_1.0.feather\n",
      "100%|██████████| 2.50M/2.50M [00:00<00:00, 7.28MB/s]\n",
      "Downloading...\n",
      "From: https://drive.google.com/uc?id=138ynRoO-wsv3iMlw3k5_W93wVbCwn66i\n",
      "To: c:\\Users\\jpsfb\\OneDrive\\Área de Trabalho\\LINSE\\Códigos\\06Maio2024-Atuador1-Exp1-VigaIntacta\\R2_A1_0.1.feather\n",
      "100%|██████████| 1.91M/1.91M [00:00<00:00, 8.51MB/s]\n",
      "Downloading...\n",
      "From: https://drive.google.com/uc?id=1cuQPOCD-ikDnkITEXuhFcapRz3WjM7ms\n",
      "To: c:\\Users\\jpsfb\\OneDrive\\Área de Trabalho\\LINSE\\Códigos\\06Maio2024-Atuador1-Exp1-VigaIntacta\\R2_A1_0.5.feather\n",
      "100%|██████████| 2.24M/2.24M [00:00<00:00, 18.8MB/s]\n",
      "Downloading...\n",
      "From: https://drive.google.com/uc?id=1ActxF2BNWxJeB7rdPKqaKpIvUwJWLEsO\n",
      "To: c:\\Users\\jpsfb\\OneDrive\\Área de Trabalho\\LINSE\\Códigos\\06Maio2024-Atuador1-Exp1-VigaIntacta\\R2_A1_0.25.feather\n",
      "100%|██████████| 2.03M/2.03M [00:00<00:00, 8.62MB/s]\n",
      "Downloading...\n",
      "From: https://drive.google.com/uc?id=1eMW9E8fMcvz8wmq49xSXKcJg36R-D56K\n",
      "To: c:\\Users\\jpsfb\\OneDrive\\Área de Trabalho\\LINSE\\Códigos\\06Maio2024-Atuador1-Exp1-VigaIntacta\\R2_A1_1.0.feather\n",
      "100%|██████████| 2.49M/2.49M [00:00<00:00, 7.39MB/s]\n",
      "Downloading...\n",
      "From: https://drive.google.com/uc?id=1whnYFkQ2pqz0KUKBFALTjRz4gggVLThh\n",
      "To: c:\\Users\\jpsfb\\OneDrive\\Área de Trabalho\\LINSE\\Códigos\\06Maio2024-Atuador1-Exp1-VigaIntacta\\R3_A1_0.1.feather\n",
      "100%|██████████| 1.91M/1.91M [00:00<00:00, 12.0MB/s]\n",
      "Downloading...\n",
      "From: https://drive.google.com/uc?id=177GBUzd_t-sOn0b5WIgunNQdp5wDa-Ot\n",
      "To: c:\\Users\\jpsfb\\OneDrive\\Área de Trabalho\\LINSE\\Códigos\\06Maio2024-Atuador1-Exp1-VigaIntacta\\R3_A1_0.5.feather\n",
      "100%|██████████| 2.22M/2.22M [00:00<00:00, 6.09MB/s]\n",
      "Downloading...\n",
      "From: https://drive.google.com/uc?id=1NXZ7RXa0rPfFM5Sshu_fMh_Zz2TQaDIs\n",
      "To: c:\\Users\\jpsfb\\OneDrive\\Área de Trabalho\\LINSE\\Códigos\\06Maio2024-Atuador1-Exp1-VigaIntacta\\R3_A1_0.25.feather\n",
      "100%|██████████| 2.03M/2.03M [00:00<00:00, 5.94MB/s]\n",
      "Downloading...\n",
      "From: https://drive.google.com/uc?id=13gYMUFQYfI-YLF7GOu9CtXPoyHhfHasR\n",
      "To: c:\\Users\\jpsfb\\OneDrive\\Área de Trabalho\\LINSE\\Códigos\\06Maio2024-Atuador1-Exp1-VigaIntacta\\R3_A1_1.0.feather\n",
      "100%|██████████| 2.49M/2.49M [00:00<00:00, 19.9MB/s]\n",
      "Download completed\n"
     ]
    },
    {
     "data": {
      "text/plain": [
       "['c:\\\\Users\\\\jpsfb\\\\OneDrive\\\\Área de Trabalho\\\\LINSE\\\\Códigos\\\\06Maio2024-Atuador1-Exp1-VigaIntacta\\\\R1_A1_0.1.feather',\n",
       " 'c:\\\\Users\\\\jpsfb\\\\OneDrive\\\\Área de Trabalho\\\\LINSE\\\\Códigos\\\\06Maio2024-Atuador1-Exp1-VigaIntacta\\\\R1_A1_0.5.feather',\n",
       " 'c:\\\\Users\\\\jpsfb\\\\OneDrive\\\\Área de Trabalho\\\\LINSE\\\\Códigos\\\\06Maio2024-Atuador1-Exp1-VigaIntacta\\\\R1_A1_0.25.feather',\n",
       " 'c:\\\\Users\\\\jpsfb\\\\OneDrive\\\\Área de Trabalho\\\\LINSE\\\\Códigos\\\\06Maio2024-Atuador1-Exp1-VigaIntacta\\\\R1_A1_1.0.feather',\n",
       " 'c:\\\\Users\\\\jpsfb\\\\OneDrive\\\\Área de Trabalho\\\\LINSE\\\\Códigos\\\\06Maio2024-Atuador1-Exp1-VigaIntacta\\\\R2_A1_0.1.feather',\n",
       " 'c:\\\\Users\\\\jpsfb\\\\OneDrive\\\\Área de Trabalho\\\\LINSE\\\\Códigos\\\\06Maio2024-Atuador1-Exp1-VigaIntacta\\\\R2_A1_0.5.feather',\n",
       " 'c:\\\\Users\\\\jpsfb\\\\OneDrive\\\\Área de Trabalho\\\\LINSE\\\\Códigos\\\\06Maio2024-Atuador1-Exp1-VigaIntacta\\\\R2_A1_0.25.feather',\n",
       " 'c:\\\\Users\\\\jpsfb\\\\OneDrive\\\\Área de Trabalho\\\\LINSE\\\\Códigos\\\\06Maio2024-Atuador1-Exp1-VigaIntacta\\\\R2_A1_1.0.feather',\n",
       " 'c:\\\\Users\\\\jpsfb\\\\OneDrive\\\\Área de Trabalho\\\\LINSE\\\\Códigos\\\\06Maio2024-Atuador1-Exp1-VigaIntacta\\\\R3_A1_0.1.feather',\n",
       " 'c:\\\\Users\\\\jpsfb\\\\OneDrive\\\\Área de Trabalho\\\\LINSE\\\\Códigos\\\\06Maio2024-Atuador1-Exp1-VigaIntacta\\\\R3_A1_0.5.feather',\n",
       " 'c:\\\\Users\\\\jpsfb\\\\OneDrive\\\\Área de Trabalho\\\\LINSE\\\\Códigos\\\\06Maio2024-Atuador1-Exp1-VigaIntacta\\\\R3_A1_0.25.feather',\n",
       " 'c:\\\\Users\\\\jpsfb\\\\OneDrive\\\\Área de Trabalho\\\\LINSE\\\\Códigos\\\\06Maio2024-Atuador1-Exp1-VigaIntacta\\\\R3_A1_1.0.feather']"
      ]
     },
     "execution_count": 6,
     "metadata": {},
     "output_type": "execute_result"
    }
   ],
   "source": [
    "# Coloquei uma pasta como visível (não editável) publicamente e peguei o link, da onde tirei a id usada no comando abaixo.\n",
    "# O link é o seguinte: https://drive.google.com/drive/folders/1RaGjPb2wRcT1clvTqA-FdtkLJv_N-518\n",
    "gdown.download_folder(id=\"1RaGjPb2wRcT1clvTqA-FdtkLJv_N-518\")\n",
    "\n"
   ]
  },
  {
   "cell_type": "markdown",
   "metadata": {},
   "source": [
    "# Verificando um arquivo"
   ]
  },
  {
   "cell_type": "code",
   "execution_count": 12,
   "metadata": {},
   "outputs": [
    {
     "ename": "FileNotFoundError",
     "evalue": "[Errno 2] No such file or directory: '/content/06Maio2024-Atuador1-Exp1-VigaIntacta/R1_A1_0.1.feather'",
     "output_type": "error",
     "traceback": [
      "\u001b[1;31m---------------------------------------------------------------------------\u001b[0m",
      "\u001b[1;31mFileNotFoundError\u001b[0m                         Traceback (most recent call last)",
      "Cell \u001b[1;32mIn[12], line 1\u001b[0m\n\u001b[1;32m----> 1\u001b[0m data \u001b[38;5;241m=\u001b[39m \u001b[43mActVibData\u001b[49m\u001b[43m(\u001b[49m\u001b[38;5;124;43m\"\u001b[39;49m\u001b[38;5;124;43m/content/06Maio2024-Atuador1-Exp1-VigaIntacta/R1_A1_0.1.feather\u001b[39;49m\u001b[38;5;124;43m\"\u001b[39;49m\u001b[43m)\u001b[49m\n\u001b[0;32m      3\u001b[0m \u001b[38;5;66;03m# Primeiro, observando logs:\u001b[39;00m\n\u001b[0;32m      4\u001b[0m display(data\u001b[38;5;241m.\u001b[39mgetLogs())\n",
      "File \u001b[1;32mc:\\Users\\jpsfb\\OneDrive\\Área de Trabalho\\LINSE\\Códigos\\ActVibModules\\ActVibSystem.py:10\u001b[0m, in \u001b[0;36mActVibData.__init__\u001b[1;34m(self, filename)\u001b[0m\n\u001b[0;32m      8\u001b[0m     \u001b[38;5;28msuper\u001b[39m()\u001b[38;5;241m.\u001b[39m\u001b[38;5;21m__init__\u001b[39m(pd\u001b[38;5;241m.\u001b[39mread_csv(filename,index_col\u001b[38;5;241m=\u001b[39m\u001b[38;5;241m0\u001b[39m,sep\u001b[38;5;241m=\u001b[39m\u001b[38;5;124m\"\u001b[39m\u001b[38;5;130;01m\\t\u001b[39;00m\u001b[38;5;124m\"\u001b[39m))\n\u001b[0;32m      9\u001b[0m \u001b[38;5;28;01melse\u001b[39;00m:    \n\u001b[1;32m---> 10\u001b[0m     \u001b[38;5;28msuper\u001b[39m()\u001b[38;5;241m.\u001b[39m\u001b[38;5;21m__init__\u001b[39m(\u001b[43mpd\u001b[49m\u001b[38;5;241;43m.\u001b[39;49m\u001b[43mread_feather\u001b[49m\u001b[43m(\u001b[49m\u001b[43mfilename\u001b[49m\u001b[43m)\u001b[49m)\n\u001b[0;32m     11\u001b[0m \u001b[38;5;28mself\u001b[39m\u001b[38;5;241m.\u001b[39mfilename \u001b[38;5;241m=\u001b[39m filename        \n\u001b[0;32m     12\u001b[0m \u001b[38;5;28;01mif\u001b[39;00m \u001b[38;5;124m\"\u001b[39m\u001b[38;5;124mTempo (s)\u001b[39m\u001b[38;5;124m\"\u001b[39m \u001b[38;5;129;01min\u001b[39;00m \u001b[38;5;28mself\u001b[39m\u001b[38;5;241m.\u001b[39mcolumns:\n",
      "File \u001b[1;32mc:\\Users\\jpsfb\\miniconda3\\envs\\myenv\\Lib\\site-packages\\pandas\\io\\feather_format.py:125\u001b[0m, in \u001b[0;36mread_feather\u001b[1;34m(path, columns, use_threads, storage_options, dtype_backend)\u001b[0m\n\u001b[0;32m    121\u001b[0m \u001b[38;5;28;01mimport\u001b[39;00m \u001b[38;5;21;01mpandas\u001b[39;00m\u001b[38;5;21;01m.\u001b[39;00m\u001b[38;5;21;01mcore\u001b[39;00m\u001b[38;5;21;01m.\u001b[39;00m\u001b[38;5;21;01marrays\u001b[39;00m\u001b[38;5;21;01m.\u001b[39;00m\u001b[38;5;21;01marrow\u001b[39;00m\u001b[38;5;21;01m.\u001b[39;00m\u001b[38;5;21;01mextension_types\u001b[39;00m  \u001b[38;5;66;03m# pyright: ignore[reportUnusedImport] # noqa: F401,E501\u001b[39;00m\n\u001b[0;32m    123\u001b[0m check_dtype_backend(dtype_backend)\n\u001b[1;32m--> 125\u001b[0m \u001b[38;5;28;01mwith\u001b[39;00m \u001b[43mget_handle\u001b[49m\u001b[43m(\u001b[49m\n\u001b[0;32m    126\u001b[0m \u001b[43m    \u001b[49m\u001b[43mpath\u001b[49m\u001b[43m,\u001b[49m\u001b[43m \u001b[49m\u001b[38;5;124;43m\"\u001b[39;49m\u001b[38;5;124;43mrb\u001b[39;49m\u001b[38;5;124;43m\"\u001b[39;49m\u001b[43m,\u001b[49m\u001b[43m \u001b[49m\u001b[43mstorage_options\u001b[49m\u001b[38;5;241;43m=\u001b[39;49m\u001b[43mstorage_options\u001b[49m\u001b[43m,\u001b[49m\u001b[43m \u001b[49m\u001b[43mis_text\u001b[49m\u001b[38;5;241;43m=\u001b[39;49m\u001b[38;5;28;43;01mFalse\u001b[39;49;00m\n\u001b[0;32m    127\u001b[0m \u001b[43m\u001b[49m\u001b[43m)\u001b[49m \u001b[38;5;28;01mas\u001b[39;00m handles:\n\u001b[0;32m    128\u001b[0m     \u001b[38;5;28;01mif\u001b[39;00m dtype_backend \u001b[38;5;129;01mis\u001b[39;00m lib\u001b[38;5;241m.\u001b[39mno_default \u001b[38;5;129;01mand\u001b[39;00m \u001b[38;5;129;01mnot\u001b[39;00m using_pyarrow_string_dtype():\n\u001b[0;32m    129\u001b[0m         \u001b[38;5;28;01mreturn\u001b[39;00m feather\u001b[38;5;241m.\u001b[39mread_feather(\n\u001b[0;32m    130\u001b[0m             handles\u001b[38;5;241m.\u001b[39mhandle, columns\u001b[38;5;241m=\u001b[39mcolumns, use_threads\u001b[38;5;241m=\u001b[39m\u001b[38;5;28mbool\u001b[39m(use_threads)\n\u001b[0;32m    131\u001b[0m         )\n",
      "File \u001b[1;32mc:\\Users\\jpsfb\\miniconda3\\envs\\myenv\\Lib\\site-packages\\pandas\\io\\common.py:872\u001b[0m, in \u001b[0;36mget_handle\u001b[1;34m(path_or_buf, mode, encoding, compression, memory_map, is_text, errors, storage_options)\u001b[0m\n\u001b[0;32m    863\u001b[0m         handle \u001b[38;5;241m=\u001b[39m \u001b[38;5;28mopen\u001b[39m(\n\u001b[0;32m    864\u001b[0m             handle,\n\u001b[0;32m    865\u001b[0m             ioargs\u001b[38;5;241m.\u001b[39mmode,\n\u001b[1;32m   (...)\u001b[0m\n\u001b[0;32m    868\u001b[0m             newline\u001b[38;5;241m=\u001b[39m\u001b[38;5;124m\"\u001b[39m\u001b[38;5;124m\"\u001b[39m,\n\u001b[0;32m    869\u001b[0m         )\n\u001b[0;32m    870\u001b[0m     \u001b[38;5;28;01melse\u001b[39;00m:\n\u001b[0;32m    871\u001b[0m         \u001b[38;5;66;03m# Binary mode\u001b[39;00m\n\u001b[1;32m--> 872\u001b[0m         handle \u001b[38;5;241m=\u001b[39m \u001b[38;5;28;43mopen\u001b[39;49m\u001b[43m(\u001b[49m\u001b[43mhandle\u001b[49m\u001b[43m,\u001b[49m\u001b[43m \u001b[49m\u001b[43mioargs\u001b[49m\u001b[38;5;241;43m.\u001b[39;49m\u001b[43mmode\u001b[49m\u001b[43m)\u001b[49m\n\u001b[0;32m    873\u001b[0m     handles\u001b[38;5;241m.\u001b[39mappend(handle)\n\u001b[0;32m    875\u001b[0m \u001b[38;5;66;03m# Convert BytesIO or file objects passed with an encoding\u001b[39;00m\n",
      "\u001b[1;31mFileNotFoundError\u001b[0m: [Errno 2] No such file or directory: '/content/06Maio2024-Atuador1-Exp1-VigaIntacta/R1_A1_0.1.feather'"
     ]
    }
   ],
   "source": [
    "data = ActVibData(\"/content/06Maio2024-Atuador1-Exp1-VigaIntacta/R1_A1_0.1.feather\")\n",
    "\n",
    "# Primeiro, observando logs:\n",
    "display(data.getLogs())\n",
    "\n",
    "# Depois, observando estrutura do DataFrame:\n",
    "display(data.sample(5))"
   ]
  },
  {
   "cell_type": "code",
   "execution_count": null,
   "metadata": {},
   "outputs": [],
   "source": [
    "fig = px.line()\n",
    "fig.add_scatter(x=data[\"time\"],y=data[\"imu2accz\"],name=\"Acelerômetro 2 - Eixo Z\")\n",
    "fig.add_scatter(x=data[\"time\"],y=data[\"imu1accz\"],name=\"Acelerômetro 1 - Eixo Z\")\n",
    "fig.update_layout(width=800,height=300)\n",
    "fig.show()"
   ]
  },
  {
   "cell_type": "markdown",
   "metadata": {},
   "source": [
    "# Fazendo uma Modelagem Adaptativa\n",
    "\n",
    "Obtém-se a resposta ao impulso"
   ]
  },
  {
   "cell_type": "code",
   "execution_count": null,
   "metadata": {},
   "outputs": [],
   "source": [
    "firmodel = FIRNLMS(memorysize=2000)\n",
    "x = data['dac1'].values - data['dac1'].mean()\n",
    "y = data['imu2accz'].values - data['imu2accz'].mean()\n",
    "firmodel.run(x,y)\n",
    "\n",
    "px.line(firmodel.ww).update_layout(width=800,height=300).show()"
   ]
  },
  {
   "cell_type": "markdown",
   "metadata": {},
   "source": [
    "Visualizando a Resposta ao Impulso em Frequencia (picos proeminentes correspondem às frequencias de ressonância):"
   ]
  },
  {
   "cell_type": "code",
   "execution_count": null,
   "metadata": {},
   "outputs": [],
   "source": [
    "[mag,freq] = easyFourier(firmodel.ww,fs=416)\n",
    "\n",
    "px.line(x=freq,y=mag).update_layout(width=800,height=400).show()\n"
   ]
  }
 ],
 "metadata": {
  "kernelspec": {
   "display_name": "Python3.11 (tensorflow)",
   "language": "python",
   "name": "tensorflow"
  },
  "language_info": {
   "codemirror_mode": {
    "name": "ipython",
    "version": 3
   },
   "file_extension": ".py",
   "mimetype": "text/x-python",
   "name": "python",
   "nbconvert_exporter": "python",
   "pygments_lexer": "ipython3",
   "version": "3.11.5"
  }
 },
 "nbformat": 4,
 "nbformat_minor": 2
}
