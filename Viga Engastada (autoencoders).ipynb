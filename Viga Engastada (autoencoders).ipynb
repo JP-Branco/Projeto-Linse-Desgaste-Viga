{
 "cells": [
  {
   "cell_type": "markdown",
   "metadata": {},
   "source": [
    "# --------------------------------\n",
    "# Instalação e importação de Dependências\n",
    "# --------------------------------"
   ]
  },
  {
   "cell_type": "code",
   "execution_count": 3,
   "metadata": {},
   "outputs": [],
   "source": [
    "import keras\n",
    "import os\n",
    "import gdown\n",
    "import numpy as np\n",
    "import pandas as pd\n",
    "import matplotlib.pyplot as plt\n",
    "\n",
    "from sklearn.model_selection import train_test_split\n",
    "from sklearn.preprocessing import StandardScaler\n",
    "\n",
    "import tensorflow as tf\n",
    "from tensorflow.keras.models import Model\n",
    "from tensorflow.keras.layers import Input, Dense\n",
    "\n",
    "\n",
    "from keras import layers\n",
    "from keras import backend as K\n",
    "from keras import regularizers\n",
    "from keras.callbacks import TensorBoard\n",
    "from ActVibModules.ActVibSystem import ActVibData "
   ]
  },
  {
   "cell_type": "code",
   "execution_count": null,
   "metadata": {},
   "outputs": [],
   "source": [
    "os.getcwd()"
   ]
  },
  {
   "cell_type": "markdown",
   "metadata": {},
   "source": [
    "MUDAR QUANDO TIVER DATASET"
   ]
  },
  {
   "cell_type": "code",
   "execution_count": null,
   "metadata": {},
   "outputs": [],
   "source": [
    "# Lista de tuplas contendo o ID do arquivo e o URL de cada arquivo\n",
    "arquivos_para_baixar = [\n",
    "    ('MedicaoDEDOjoao', 'https://drive.google.com/file/d/1waQTn6e9-QB5OPWqSTHl4HRZRisL7-rv/view?usp=drive_link'),\n",
    "    ('MedicaoMETAL2joao', 'https://drive.google.com/file/d/19XDZhFSeum3GM6W2bq2fSOLUs0C-DO5d/view?usp=drive_link'),\n",
    "    ('MedicaoMetalJOAO', 'https://drive.google.com/file/d/1B-3I_9Dd6cGZ2ccoiEbdP8B-pa4gZZKy/view?usp=drive_link'),\n",
    "    ('MedicoesDedo2joao', 'https://drive.google.com/file/d/1HV1VR9SBKw7eI1yAJ33VNADVXSZVe_mV/view?usp=drive_link'),\n",
    "    ('Dados_Impacto_Amortecido.feather', 'https://drive.google.com/file/d/1OlG9XfdQwxlVRHushhaP-SRYaKKO_D0n/view?usp=drive_link'),\n",
    "    ('Dados_Impacto_Metalico.feather', 'https://drive.google.com/file/d/1mFfjhsMNsKoNTp-kmEL6gcK_tzwh8StB/view?usp=drive_link')\n",
    "]\n",
    "\n",
    "# Itera sobre cada tupla e baixa o arquivo correspondente\n",
    "for arquivo_id, arquivo_url in arquivos_para_baixar:\n",
    "    # Baixando o arquivo\n",
    "    gdown.download(arquivo_url, quiet=False, fuzzy=True)"
   ]
  },
  {
   "cell_type": "code",
   "execution_count": null,
   "metadata": {},
   "outputs": [],
   "source": [
    "dadosDedo = ActVibData(\"MedicaoDEDOjoao.feather\")\n",
    "dadosMetal = ActVibData(\"MedicaoMetalJOAO.feather\")\n",
    "dadosDedo2 = ActVibData(\"MedicoesDedo2joao.feather\")\n",
    "dadosMetal2 = ActVibData(\"MedicaoMETAL2joao.feather\")\n",
    "dadosImpactoAmortecido = ActVibData(\"Dados_Impacto_Amortecido.feather\")\n",
    "dadosImpactoMetalico = ActVibData(\"Dados_Impacto_Metalico.feather\")"
   ]
  },
  {
   "cell_type": "markdown",
   "metadata": {},
   "source": [
    "# -----------------------\n",
    "# 1 - Pré-normalização\n",
    "# -----------------------"
   ]
  },
  {
   "cell_type": "code",
   "execution_count": null,
   "metadata": {},
   "outputs": [],
   "source": [
    "scaler = StandardScaler()\n",
    "normal_data_scaled = scaler.fit_transform(normal_data)\n",
    "clamped_data_scaled = scaler.transform(clamped_data)"
   ]
  },
  {
   "cell_type": "markdown",
   "metadata": {},
   "source": [
    "# -------------------------------------\n",
    "# 2 - Construir modelo do autoencoder\n",
    "# -------------------------------------"
   ]
  },
  {
   "cell_type": "code",
   "execution_count": null,
   "metadata": {},
   "outputs": [],
   "source": [
    "def build_autoencoder(input_dim):\n",
    "    input_layer = Input(shape=(input_dim,))\n",
    "    encoded = Dense(64, activation='relu')(input_layer)\n",
    "    encoded = Dense(32, activation='relu')(encoded)\n",
    "    encoded = Dense(16, activation='relu')(encoded)\n",
    "\n",
    "    decoded = Dense(32, activation='relu')(encoded)\n",
    "    decoded = Dense(64, activation='relu')(decoded)\n",
    "    decoded = Dense(input_dim, activation='sigmoid')(decoded)\n",
    "\n",
    "    autoencoder = Model(input_layer, decoded)\n",
    "    autoencoder.compile(optimizer='adam', loss='mse')\n",
    "    return autoencoder"
   ]
  },
  {
   "cell_type": "markdown",
   "metadata": {},
   "source": [
    "# -------------------------------------\n",
    "# 3 - Treinando o modelo (dataset - viga normal)\n",
    "# -------------------------------------"
   ]
  },
  {
   "cell_type": "code",
   "execution_count": null,
   "metadata": {},
   "outputs": [],
   "source": [
    "input_dim = normal_data_scaled.shape[1]\n",
    "autoencoder_normal = build_autoencoder(input_dim)\n",
    "autoencoder_normal.fit(normal_data_scaled, normal_data_scaled,\n",
    "                       epochs=50, batch_size=32, shuffle=True, validation_split=0.2)"
   ]
  },
  {
   "cell_type": "markdown",
   "metadata": {},
   "source": [
    "# -------------------------------------\n",
    "# 4 - Visualizar os resultados (viga normal)\n",
    "# -------------------------------------"
   ]
  },
  {
   "cell_type": "code",
   "execution_count": null,
   "metadata": {},
   "outputs": [],
   "source": [
    "# Vamos reconstruir os dados e calcular o erro de reconstrução para identificar anomalias\n",
    "reconstructed_normal = autoencoder_normal.predict(normal_data_scaled)\n",
    "reconstruction_error_normal = np.mean(np.abs(reconstructed_normal - normal_data_scaled), axis=1)"
   ]
  },
  {
   "cell_type": "code",
   "execution_count": null,
   "metadata": {},
   "outputs": [],
   "source": [
    "# Visualizar o erro de reconstrução\n",
    "plt.figure(figsize=(10, 6))\n",
    "plt.hist(reconstruction_error_normal, bins=50)\n",
    "plt.xlabel('Reconstruction Error')\n",
    "plt.ylabel('Frequency')\n",
    "plt.title('Histogram of Reconstruction Error (Normal Beam)')\n",
    "plt.show()"
   ]
  },
  {
   "cell_type": "markdown",
   "metadata": {},
   "source": [
    "# -------------------------------------\n",
    "# 3 - Treinando o modelo (dataset - viga engastada)\n",
    "# -------------------------------------"
   ]
  },
  {
   "cell_type": "code",
   "execution_count": null,
   "metadata": {},
   "outputs": [],
   "source": [
    "input_dim = clamped_data_scaled.shape[1]\n",
    "autoencoder_clamped = build_autoencoder(input_dim)\n",
    "autoencoder_clamped.fit(clamped_data_scaled, clamped_data_scaled,\n",
    "                       epochs=50, batch_size=32, shuffle=True, validation_split=0.2)"
   ]
  },
  {
   "cell_type": "markdown",
   "metadata": {},
   "source": [
    "# -------------------------------------\n",
    "# 4 - Visualizar os resultados (viga engastada)\n",
    "# -------------------------------------"
   ]
  },
  {
   "cell_type": "code",
   "execution_count": null,
   "metadata": {},
   "outputs": [],
   "source": [
    "# Vamos reconstruir os dados e calcular o erro de reconstrução para identificar anomalias\n",
    "reconstructed_clamped = autoencoder_clamped.predict(clamped_data_scaled)\n",
    "reconstruction_error_clamped = np.mean(np.abs(reconstructed_clamped - clamped_data_scaled), axis=1)"
   ]
  },
  {
   "cell_type": "code",
   "execution_count": null,
   "metadata": {},
   "outputs": [],
   "source": [
    "# Visualizar o erro de reconstrução\n",
    "plt.figure(figsize=(10, 6))\n",
    "plt.hist(reconstruction_error_clamped, bins=50)\n",
    "plt.xlabel('Reconstruction Error')\n",
    "plt.ylabel('Frequency')\n",
    "plt.title('Histogram of Reconstruction Error (Clamped Beam)')\n",
    "plt.show()"
   ]
  }
 ],
 "metadata": {
  "kernelspec": {
   "display_name": "Python3.11 (tensorflow)",
   "language": "python",
   "name": "tensorflow"
  },
  "language_info": {
   "codemirror_mode": {
    "name": "ipython",
    "version": 3
   },
   "file_extension": ".py",
   "mimetype": "text/x-python",
   "name": "python",
   "nbconvert_exporter": "python",
   "pygments_lexer": "ipython3",
   "version": "3.11.5"
  }
 },
 "nbformat": 4,
 "nbformat_minor": 2
}
